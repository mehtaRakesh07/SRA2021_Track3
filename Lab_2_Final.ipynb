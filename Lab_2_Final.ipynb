{
 "cells": [
  {
   "cell_type": "markdown",
   "id": "e04cabdb",
   "metadata": {},
   "source": [
    "### Welcome to Lab 2. In this lab you will:\n",
    "* Calculate when the next primary and secondary eclipses are for beta Lyrae\n",
    "* Log in to the observing portal at LCO and pull down old observations of beta Lyrae\n",
    "* Examine what is wrong with old observations, and use those to guide your own observation of beta lyrae\n",
    "* Submit a test observation of beta Lyrae\n",
    "\n",
    "#### It is important that you watch the pre lab video about LCO's observation portal. If you have not done so, please watch it now.\n",
    "\n",
    "The purpose of this lab is to be able to answer the following questions for your own targets of interest (TOIs)\n",
    "* What filters should I use?\n",
    "* How much time should I observe the target in each filter?\n",
    "* How many observations will I take of my source? Will I manually space observations or use an image sequence to fill entire time slots with as many observations as possible.\n"
   ]
  },
  {
   "cell_type": "markdown",
   "id": "693a7e46",
   "metadata": {},
   "source": [
    "Part 1: Choose a driver to perform this part of the lab. Remember you will all work together, then periodically switch drivers -- whereby the next driver will git pull the repository and continue where you last left off."
   ]
  },
  {
   "cell_type": "markdown",
   "id": "7d614405",
   "metadata": {},
   "source": [
    "In class, we found that the Nth eclipse of beta lyrae occurs at a very predictable time. N is some integer, 0,1,2... etc. Note that N is entirely arbitrary. Harmanec chose a date to anchor the formula, and that date happened to be in the 19th century.\n",
    "In the formula, we had E instead of N. But E is used for special purposes in python, so we are changing to N. \n",
    "\n",
    "In fact, we are going to use E in the formula in the python way. 1E-1 is 10^-1, 1E-2 is 10^-2 etc..\n",
    "\n",
    "The formula was:"
   ]
  },
  {
   "cell_type": "code",
   "execution_count": 2,
   "id": "cf2cb3a1",
   "metadata": {},
   "outputs": [
    {
     "name": "stdout",
     "output_type": "stream",
     "text": [
      "12.9137838720344\n",
      "notice that the gap between eclipses is just equal to the period.\n",
      "Because eclipse_time returns a Time \"object\", I can access different attributes of that object to convert the time. For instance:\n",
      "(1916, 10, 29, 2, 49, 51.74399525)\n",
      "So the 1000th eclipse (using this formula) occurs in 1916, in the tenth month, on the 29th day at the second hour.\n"
     ]
    }
   ],
   "source": [
    "from astropy.time import Time\n",
    "def eclipse_time(N):\n",
    "    return Time(2408247.966 + 12.913780 * N + (N**2) * 3.87196E-6, format='jd')\n",
    "\n",
    "print(eclipse_time(1) - eclipse_time(0))\n",
    "print('notice that the gap between eclipses is just equal to the period.')\n",
    "\n",
    "print('Because eclipse_time returns a Time \"object\", I can access different attributes of that object to convert the time. For instance:')\n",
    "print(eclipse_time(1000).ymdhms)\n",
    "print('So the 1000th eclipse (using this formula) occurs in 1916, in the tenth month, on the 29th day at the second hour.')"
   ]
  },
  {
   "cell_type": "markdown",
   "id": "74e6b056",
   "metadata": {},
   "source": [
    "Problem 1:"
   ]
  },
  {
   "cell_type": "markdown",
   "id": "51514877",
   "metadata": {},
   "source": [
    "1. In the following cell, find the calendar date and hour of the day when the next primary eclipse will occur. E.g., \"the next eclipse will occur on 06/30 at 5 PM Universal Time (UT)\". Read about https://docs.astropy.org/en/stable/time/index.html astropy.time.Time in order to easily convert to calendar date. Do not use the .ymdhms attribute, there is a much better one for calendar dates!\n",
    "\n",
    "2. Go to here: https://lco.global/observatory/sites/ and find the timezone for McDonald Observatory (e.g. UTC - X, X some integer). When will this next eclipse occur in this timezone? Will it be night-time there during that eclipse? If not, at what site (in LCO's set of sites) will it be night time during the eclipse?"
   ]
  },
  {
   "cell_type": "code",
   "execution_count": 22,
   "id": "9369be5c",
   "metadata": {},
   "outputs": [
    {
     "name": "stdout",
     "output_type": "stream",
     "text": [
      "(2021, 7, 12, 22, 4, 50.16119689)\n",
      "2021-07-12T22:04:50.161\n"
     ]
    }
   ],
   "source": [
    "t = eclipse_time(3957)\n",
    "print(t.ymdhms)\n",
    "print(t.isot)"
   ]
  },
  {
   "cell_type": "markdown",
   "id": "a84ef1b2",
   "metadata": {},
   "source": [
    "1. The next primary eclipse will occur on 07/12 at 10:04:50 PM (UT)\n",
    "2. This next eclipse will occur at 17 hours, 4 minutes, and 50 seconds at McDonald's Observatory (UTC-5). This is 05:04:50 PM at Mcdonald's Observatory. It will not be nigh time during this eclipse. It will be night time at the Tiede Observatory since the time there would be 11:04:50 AM."
   ]
  },
  {
   "cell_type": "markdown",
   "id": "85098dd2",
   "metadata": {},
   "source": [
    "End of Problem"
   ]
  },
  {
   "cell_type": "markdown",
   "id": "11cdaf31",
   "metadata": {},
   "source": [
    "![<caption>](https://www.aavso.org/sites/default/files/images/terrellfig2.gif)\n",
    "*Beta Lyrae lightcurve as a function of phase in the binary orbit. Phase 0 to 1 takes approximately 12.9 days, the orbital period.*"
   ]
  },
  {
   "cell_type": "markdown",
   "id": "fc093ddf",
   "metadata": {},
   "source": [
    "### Git commit, push. Then switch drivers and git pull"
   ]
  },
  {
   "cell_type": "markdown",
   "id": "d5a920e5",
   "metadata": {},
   "source": [
    "Problem 2"
   ]
  },
  {
   "cell_type": "markdown",
   "id": "e659b604",
   "metadata": {},
   "source": [
    "Above is a light curve of beta Lyrae. \n",
    "\n",
    "\n",
    "3. How different in hours is the secondary eclipse from the primary eclipse? I.e. what is the time difference between the very bottom of the secondary eclipse and the very bottom of the primary eclipse. Give it in days, not in phase. Feel free to use the plot, and the fact that phase 0 to 1 takes one orbital period of time.\n",
    "\n",
    "4. Repeat Problem 1.1 and 1.2 but for the secondary eclipse. \n",
    "\n",
    "5. Can you observe this star from LCO? Look at the daily visibility: https://lco.global/observatory/tools/visibility/ . Is it visible most of the time? Is it not visible?\n",
    "\n",
    "6. How long is the secondary eclipse (roughly) in hours?\n",
    "\n",
    "7. For what time should you schedule your observation and for how long (if you had no constraints on observing time)? I.e., something like: I would schedule a sequence of observations between 15 hours and 18 hours UT on 6/30."
   ]
  },
  {
   "cell_type": "markdown",
   "id": "6e013984",
   "metadata": {},
   "source": [
    "3. The secondary eclipse takes 6.45 days after the primary eclipse to happen\n",
    "4. The next secondary eclipse will occur on 07/19/2021 at 8:52:50 AM (UT). This will be visible at night at the McDonald's observatory.\n",
    "5. This is observable from the LCO for most of the time.\n",
    "6. The secondarly eclipse will be around 123.48 hours\n",
    "7. I would scheule observations on 07/12/2021 between 20 to 25 hours UT. I would also sechulde observation on 07/19 between 6 hours and 10 hours UT."
   ]
  },
  {
   "cell_type": "markdown",
   "id": "bde0f21e",
   "metadata": {},
   "source": [
    "End of problem"
   ]
  },
  {
   "cell_type": "markdown",
   "id": "b80d2cb0",
   "metadata": {},
   "source": [
    "## Part 2: The LCO Archive and scheduling observations"
   ]
  },
  {
   "cell_type": "markdown",
   "id": "edb51918",
   "metadata": {},
   "source": [
    "* Navigate to https://observe.lco.global/\n",
    "* Go to \"manage Proposals\"\n",
    "    ![<caption>](lab2_resources/manage_proposals.png)\n",
    "* Then click on \" DDT2021A-008\"\n",
    "* Then go to \"view observation requests:\n",
    "    ![<caption>](lab2_resources/view_obs_requests.png)\n",
    "    "
   ]
  },
  {
   "cell_type": "markdown",
   "id": "b6dbd467",
   "metadata": {},
   "source": [
    "### You should now be at the main overview screen. This is where you can duplicate old observations, and create brand new ones.\n",
    "\n",
    "It looks like this. It will change as you all submit observations. Observations will show up here:\n",
    "\n",
    "![<caption>](lab2_resources/main_screen.png)"
   ]
  },
  {
   "cell_type": "markdown",
   "id": "fa090a45",
   "metadata": {},
   "source": [
    "Click on \"Submit observation\"\n",
    "Most of these settings, you do not need to change. But there are a few you should know. \n",
    "* Look at \"Name\" and \"Proposal\". Proposal should be set to our class proposal -- \"SBIG Stellar and planetary science\"\n",
    "* Name is the name you want to give this particular observation. Give it a unique name that is not likely to conflict with other students. A good identifier is: \"target name: group identifier: your initials: Number\". So \"Beta Lyrae: Gp 3: GMB: 1\". Then if you did a second beta lyrae observation, you would write: \"Beta Lyrae: Gp 3: GMB: 2\""
   ]
  },
  {
   "cell_type": "markdown",
   "id": "64f02984",
   "metadata": {},
   "source": [
    "Next, scroll past Exposure and exposure type, and exposure time. Go to the Target sub window:\n",
    "![<caption>](lab2_resources/target_sub_window.png)\n",
    "    \n",
    "    \n",
    "Go ahead and enter the name of the target as you see it on SIMBAD. E.g., Beta lyrae. If the observation portal has difficulty resolving it, try the HD name. See http://simbad.u-strasbg.fr/simbad/sim-id?Ident=Beta+Lyrae -- because it would be no fun if I just gave you the HD name to start with!.\n",
    "    \n",
    "Now the fields should autopopulate:\n",
    "![<caption>](lab2_resources/populated_ra_dec.png)\n",
    "    "
   ]
  },
  {
   "cell_type": "markdown",
   "id": "f272eead",
   "metadata": {},
   "source": [
    "### Problem 2.5. You still need a filter. For now, set it to SDSS-gp. Go to https://skyserver.sdss.org/dr1/en/proj/advanced/color/sdssfilters.asp . What wavelength is SDSS-gp centered on? What color is this?"
   ]
  },
  {
   "cell_type": "markdown",
   "id": "fa5c3c74",
   "metadata": {},
   "source": [
    "1. SDSS-gp is centerd on the wavelength 4770, which is blue colored light."
   ]
  },
  {
   "cell_type": "markdown",
   "id": "5ebf4e9d",
   "metadata": {},
   "source": [
    "End of Problem"
   ]
  },
  {
   "cell_type": "markdown",
   "id": "d49f5200",
   "metadata": {},
   "source": [
    "## Now, you still need an exposure time (how long in seconds you will observe the star for) and whether or not you will do an exposure sequence.\n",
    "\n",
    "For an exposure sequence, you provide a duration (e.g., 30 minutes) and an exposure time per observation (say 2 seconds), and then the telescope will stay on target and take frame after frame for 2 second exposures -- filling the 30 minute time slot.\n",
    "\n",
    "But what exposure time should we use? Let's figure that out."
   ]
  },
  {
   "cell_type": "markdown",
   "id": "f8be7b93",
   "metadata": {},
   "source": [
    "Problem 3."
   ]
  },
  {
   "cell_type": "markdown",
   "id": "3f6eb1de",
   "metadata": {},
   "source": [
    "Use the s/n calculator https://exposure-time-calculator.lco.global/ and in the space below, tell me what time you think you should expose for."
   ]
  },
  {
   "cell_type": "markdown",
   "id": "03d80690",
   "metadata": {},
   "source": [
    "Less than 1 second if possible."
   ]
  },
  {
   "cell_type": "markdown",
   "id": "eec88c45",
   "metadata": {},
   "source": [
    "End of problem."
   ]
  },
  {
   "cell_type": "markdown",
   "id": "9bcf6032",
   "metadata": {},
   "source": [
    "Now remember this? \n",
    "![<caption>](lab2_resources/populated_ra_dec.png)\n",
    "    \n",
    "    \n",
    "Click on the number in front of existing frames. This will bring you to the LCO archive, where you can find all other observations of the source.\n",
    "    \n",
    "    \n",
    "Look at the exposure time column.\n",
    "    \n",
    "![<caption>](lab2_resources/archive_screenshot.png)"
   ]
  },
  {
   "cell_type": "markdown",
   "id": "e504b077",
   "metadata": {},
   "source": [
    "Problem 4."
   ]
  },
  {
   "cell_type": "markdown",
   "id": "22adcb1a",
   "metadata": {},
   "source": [
    "Go and download one of the 2.3 second exposed frames. R level means reduction level. We want the polished, final versions of the images. So make sure R level is set to \"BANZAI\". Banzai is the name of the pipeline that polished the images (which is written in python by the way). \"Reduction\" is the scientific word for polishing data, basically.\n",
    "\n",
    "So with one of these frames in hand. Load it into python here\n",
    "use astropy.io and fits. E.g.;\n",
    "from astropy.io import fits\n",
    "image_data = fits.open('path_to/file.fits.fz')['SCI'].data  #'SCI' to get the science data. [1] works as well.\n",
    "\n",
    "display it with plt.imshow()\n",
    "\n",
    "Zoom in (either by hand or by slicing the region) on the bright star in the center (that is beta lyrae). Adjust the scale until your image looks like this one:\n",
    "You might need to adjust vmin and vmax of LogNorm() https://matplotlib.org/stable/tutorials/colors/colormapnorms.html .\n",
    "\n",
    "![<caption>](lab2_resources/beta_lyrae_saturation.png)\n",
    "\n",
    "    \n",
    "The questions are:\n",
    "    1. What is going on here? Why does the star seem to have this horn of high-count pixels on it? What is going on? It might help to display a binary image, by doing something like: \"plt.imshow(image[image > 100000)])\"\n",
    "    \n",
    "    Read this: https://www.princetoninstruments.com/learn/camera-fundamentals/full-well-capacity-pixel-saturation and explain what you think is going on.\n",
    "\n",
    "2. Looking at the image, how many counts is the saturation limit for the 0.4 meters?\n",
    "    \n",
    "3. How might you fix (and avoid saturation) this with a future observation? \n",
    "    \n",
    "4. What filters seem to be a good choice to observe in?"
   ]
  },
  {
   "cell_type": "code",
   "execution_count": 67,
   "id": "628b462a",
   "metadata": {},
   "outputs": [
    {
     "data": {
      "image/png": "[encoded data removed]",
      "text/plain": [
       "<Figure size 432x288 with 1 Axes>"
      ]
     },
     "metadata": {
      "needs_background": "light"
     },
     "output_type": "display_data"
    }
   ],
   "source": [
    "from astropy.io import fits\n",
    "import matplotlib.pyplot as plt\n",
    "from matplotlib.colors import LogNorm\n",
    "\n",
    "image_data = fits.open('C:/Users/rakes/Desktop/Studies/SRA-2021/GithubTrack3/SRA2021_Track3/lab2_resources/tfn0m410-kb98-20200712-0070-e91.fits.fz')['SCI'].data\n",
    "plt.figure()\n",
    "plt.imshow(image_data[1025:1100, 1475:1555], cmap = \"Greys_r\")\n",
    "plt.gca().invert_yaxis()"
   ]
  },
  {
   "cell_type": "markdown",
   "id": "160dc295",
   "metadata": {},
   "source": [
    "1. The pixels are blooming because one of the pixels crossed the saturation limit and the charge spread to neighbouring pixels, creating the streak.\n",
    "2. The saturation limit for the 0.4 SBIG telescope is 124,000 digital counts.\n",
    "3. Saturation can be avoided by limiting exposure time or defocusing.\n",
    "4. The B and V filters seem to be a good choice for observations."
   ]
  },
  {
   "cell_type": "markdown",
   "id": "ae64f6be",
   "metadata": {},
   "source": [
    "End of problem."
   ]
  },
  {
   "cell_type": "markdown",
   "id": "a0c898e9",
   "metadata": {},
   "source": [
    "The problem that saturation causes is that it makes photometry very difficult. For instance, how many photons hit a saturated pixel with 100,000 counts?\n",
    "\n",
    "You don't know, you just know that it was over some threshold. It is akin to placing a 100 ounce bucket out in the street on a rainy day. At the end of the day, you might find that the bucket is full. How many ounces of water fell into the bucket? You only know that it was at least 100 ounces. It could have been 300 ounces or 101 or 250... you just don't know.\n",
    "\n",
    "What is worth with CCD's, and has no analogy to buckets of water, is that after a number of counts (about 60,000 for the 0.4 meter SBIG cameras) they go *nonlinear*. Meaning it might take 1000 photons to elevate a pixel's counts from 50,000 to 60,000, but then it might take 1500 photons to elevate the counts from 60,000 to 70,000. So again, this makes photometry nearly impossible."
   ]
  },
  {
   "cell_type": "markdown",
   "id": "59afc0b1",
   "metadata": {},
   "source": [
    "To reduce the number of counts, you can reduce the exposure time. The minimum observation time is 1 second. The shutter on the camera cannot open nor close much faster. There is a way to avoid saturation without reducing observation time. This is achieved by defocusing the telescope. Defocusing the telescope spreads the light out into a donut, making it cast further over the chip. One can do this with the \"Defocus\" parameter when you are scheduling an observation. A decent value is 0.2 or 0.3 mm.\n",
    "\n",
    "However, the 0.4 meters have a hardware flaw that causes them to sometimes *not return to the original focus*. For this reason, we recommend you do not use the defocus. You can -- but do it at your own risk.. \n",
    "\n",
    "\n",
    "The easiest solution, frankly, is to pick a source that is fainter. Something around 6th or 7th magnitude, and then take 10 or 20 second observations (or however long you find that you need).\n",
    "\n",
    "\n",
    "\n",
    "The signal to noise calculator also gives the \"peak counts\" in  PkDN. This is the highest number of counts you can expect to exist for the star you are observing. You should observe so that in practice, you get between 10,000 and 40,000 counts. However, this is where things get hard.\n",
    "The S/N calculator is only approximate. These things complicate the observation\n",
    "* Thin clouds above the telescope. Thin clouds will decrease the signal to noise and peak counts of the observation. In bad cases, where a thick cloud passes overhead, entire exposures may be aborted because the guide star (What the telescope \"locks\" onto) may be lost.\n",
    "* How low above the horizon the star is. This is characterize by the \"air mass\" parameter. Note that in your observation request, you can select the maximum airmass you want to observe through. Exactly at zenith (right overhead) corresponds to an air mass of 1. Typical observations restrict your request to a cone with an opening angle of 104 degrees -- or 52 degrees off the horizon. This is an airmass of 1.6. Lower on the horizon corresponds to higher air mass. https://www.pveducation.org/pvcdrom/properties-of-sunlight/air-mass"
   ]
  },
  {
   "cell_type": "markdown",
   "id": "f28b663f",
   "metadata": {},
   "source": [
    "Problem 5."
   ]
  },
  {
   "cell_type": "markdown",
   "id": "8d811d0f",
   "metadata": {},
   "source": [
    "1. If needed, you can increase the air mass maximum of your observation. 2 is usually a safe upper limit. But there is no subsitute here for doing your due research. The formula for air mass is simply 1/cos(theta). What angle theta corresponds to an air mass of 2? Can also use https://www.pveducation.org/pvcdrom/properties-of-sunlight/air-mass\n",
    "\n",
    "The throughput (atmospheric extinction) is wavelength and site dependent, but typical values of what you lose per airmass are:\n",
    "\n",
    "B: 30%; V: 17%, R: 9%, I: 7%\n",
    "So in any B filter, you might lose 60% of your light at an air mass of 2, and 30% at an airmass of 1. in R, you are less affected. \n",
    "\n",
    "\n",
    "2. Set the exposure time in your beta lyrae calculation to 1 second. Then look at the visibility plot in the bottom. Change the airmass to 2 and see how that affects the visibility. Do you need to increase the air mass limit to 2? Or is 1.6 good enough?\n",
    "\n",
    "3. Change the target name to \"CO Cep\". This is a fainter eclipsing binary. Note that you need an exposure time of more like 100 seconds for this target, but we won't schedule anything for it just yet. Keep the airmass at 1.6. How long can you observe the star for?\n",
    "\n",
    "4. Set the airmass to 2, and click another cell so that the visibility refreshes. Now how long can you observe for an at how many sites?\n",
    "\n",
    "5. Would CO Cep (at this time of year) then be a good option for increasing air mass limits to 2?\n",
    "\n",
    "\n",
    "At the end of this all, change the target back to the \"beta Lyrae\""
   ]
  },
  {
   "cell_type": "markdown",
   "id": "55911406",
   "metadata": {},
   "source": [
    "1. Air Mass of 2 corresponds with a angle theta of measure 60 degrees.\n",
    "2. Changing the airmass increases visibility period for certian telescopes. An airmass of 1.6 is good enough\n",
    "3. The star can be observed for one hour from 10:00 to 11:00 PM\n",
    "4. The star can be observed for a total of 2 hours across 3 different telescopes.\n",
    "5. Yes, CO Cep will be a good option to increase the air mass limits to 2."
   ]
  },
  {
   "cell_type": "markdown",
   "id": "6d81a8b1",
   "metadata": {},
   "source": [
    "End of problem."
   ]
  },
  {
   "cell_type": "markdown",
   "id": "f00c25ce",
   "metadata": {},
   "source": [
    "Create a test beta lyrae observation for a single 2 second exposure. Then scroll to the top of the page where it says total observation time. You should see something like this:\n",
    "![<caption>](lab2_resources/total_observation_time.png)\n",
    "\n",
    "\n",
    "But wait!! You scheduled a 2 second observation. Why is it going to eat up 2 minutes of your telescope time??\n",
    "    \n",
    "Why is this? Read the \"Observation overheads\" section from https://lco.global/observatory/process/guidelines/ , along with this different reference about a different telescope (called James Webb Space Telescope; JWST) https://jwst-docs.stsci.edu/jwst-observatory-functionality/jwst-observing-overheads-and-time-accounting-overview/slew-times-and-overheads#SlewTimesandOverheads-Initialslew . Explain why there is about a minute and a half of overhead on top of your observation.\n",
    "\n"
   ]
  },
  {
   "cell_type": "markdown",
   "id": "b51b1607",
   "metadata": {},
   "source": [
    "Problem 6"
   ]
  },
  {
   "cell_type": "markdown",
   "id": "5d743fc1",
   "metadata": {},
   "source": [
    "Does each exposure incur the same overhead penalty? Or if you do a \"image sequence\" can you get in, say 30 exposures, with only one slew and settle overhead? For a test, lets change to an exposure sequence. Select exposure sequence, and set the duration to 200 seconds:\n",
    "\n",
    "![<caption>](lab2_resources/exposure_sequence.png)\n",
    "    \n",
    "    \n",
    "So you are going to fill 200 seconds of on-target time with as many 2 second exposures as you can. On top of each 2 second observation, there is a N second \"read out\" time where the image is effectively downloaded off the CCD. Read https://lco.global/observatory/process/guidelines/ and tell me what the read out time is.\n",
    "    \n",
    "    1. What is the read out time for the 0.4 meter SBIG?\n",
    "    2. How many 2 second exposures then will fit in your 200 second window?\n",
    "    3. What is the total observation request? Has the observation overhead increased by e.g., 20 minutes since you are now taking ~10 exposures? Or is the total time now 2 minutes + 200 seconds (roughly)?\n",
    "    4. What does this tell you about efficiently scheduling exposures? Should you schedule single exposures by hand? Or sequences of exposures when possible?"
   ]
  },
  {
   "cell_type": "markdown",
   "id": "ece2fc81",
   "metadata": {},
   "source": [
    "1. The readout time for the 0.4 meter SBIG is 14 seconds.\n",
    "2. You can do 12 exposures in 200 seconds.\n",
    "3. The total observation request is 300 seconds. The observation overhead has increased by about 180 seconds. The total time is now roughly 2 minutes + 200 seconds.\n",
    "4. This tells you that you should schedule sequences of exposures when possible because the extra time taken away from our telescope time remains constant (2 minutes) for each request."
   ]
  },
  {
   "cell_type": "markdown",
   "id": "9b30b6e6",
   "metadata": {},
   "source": [
    "End of problem."
   ]
  },
  {
   "cell_type": "markdown",
   "id": "3c009418",
   "metadata": {},
   "source": [
    "Final Problem "
   ]
  },
  {
   "cell_type": "markdown",
   "id": "ae06534a",
   "metadata": {},
   "source": [
    "Go ahead and schedule a single exposure of a source (e.g., beta lyrae or CO Cep, or anything of your choice). Make sure that the exposure time will not result in significant saturation. For instance, don't observe beta lyrae for 10 seconds -- observe it for 1 or 2 seconds.\n",
    "\n",
    "\n",
    "Schedule this observation, make sure all the check marks appear green and that the \"total time used\" is less than 5 minutes. If you have a good reason for scheduling a longer test observation, double check with the TA.\n",
    "\n",
    "Set the observation window to between today and 3 days from now. Longer windows give a larger chance of your observation actually happening.\n",
    "\n",
    "Click \"submit request at the top right.\" Make sure it goes through.\n",
    "\n",
    "Now, you can either let the observation finish, or cancel it. If you leave it alone, it will probably happen within the next day or so. If you don't want to use the 5 minutes of your time on this test observation, then click cancel.\n",
    "\n",
    "Otherwise, your observation and data should appear here in a couple days!"
   ]
  },
  {
   "cell_type": "markdown",
   "id": "63beaca3",
   "metadata": {},
   "source": [
    "End of problem."
   ]
  },
  {
   "cell_type": "code",
   "execution_count": null,
   "id": "4b219606",
   "metadata": {},
   "outputs": [],
   "source": []
  },
  {
   "cell_type": "markdown",
   "id": "da748cc6",
   "metadata": {},
   "source": [
    "\n",
    "Remember that you calculated that the beta lyrae transit was long -- a couple days. For other eclipsing binaries that you might discover, the transit might just be a few hours. Still, you only have 1.5 hours to observe a few hour transit (or in the case of beta lyrae, a few day transit). There are a couple ways you can go about this:\n",
    "\n",
    "* Schedule several observations during the transit, like we discussed in the prelab. So you might schedule a 10 minute block of observations right at egress. Another 10 minute block 4 hours later, and so forth. Then schedule a few of these blocks during the minimum of the transit. I'm going to call this method \"sparse sampling\" of the transit. However, as you found above, do not schedule single observations. Overhead will quickly eat up your telescope time.\n",
    "\n",
    "* Shorter orbital periods help, because the transits are faster. Algol is not visible currently from any LCO telescopes. It is too close to the sun. However, if you wanted to observe a star like Algol, that just has a few hour transit, then you could do sparse sampling like above. OR you could coordinate with another group and pool your time. With two groups, you could just schedule a single 3 hour block (or two consecutive 1.5 hour blocks) that cover the entire transit of an Algol-like star. That would produce a beautiful data set!\n",
    "\n",
    "There is a slack channel dedicated to such a discussion: \"#observing-coordination\"\n",
    "Also, on Monday’s discussion section, we will have a big group discussion, based on what sources people are observing (in breakout rooms named after the sources), where people can consider what sources they want to observe and coordinate observations. \n",
    "\n",
    "Note that professional astronomers do this all the time. Research groups lend other groups time so that they can, together, produce a better science result. \n"
   ]
  },
  {
   "cell_type": "markdown",
   "id": "dad9ebe3",
   "metadata": {},
   "source": [
    "For the rest of this lab, this weekend and tomorrow (friday), you and your group should try and find some great targets of interest (TOI's) that you may want to observe. Remember, these don't have to be eclipsing binaries or transiting hot jupiters -- they can also be just interesting variable stars.\n",
    "\n",
    "You should aim to schedule the majority of your observations early next week!\n",
    "\n",
    "\n",
    "The rest of this document is filled with tips. Please read before embarking on your search for good targets to observe.\n",
    "Tips:\n",
    "\n",
    "Try doing cuts of targets on Right ascension. E.g., use the general catalog of variable stars on vizier, and restrict RA to be less than 4 hours and greater than 10 hours -- this will give you everything that is NOT behind the sun. These sources are most likely visible from one of LCO's many observation sites.\n",
    "\n",
    "Look for brightnesses between 6th and 10th magnitude. This will make it so that you won't saturate, yet will still only need observation times between a few seconds and ~100 seconds. Again, you can do such a cut in Vizier: https://vizier.u-strasbg.fr/viz-bin/VizieR-3?-source=B/gcvs/gcvs_cat\n",
    "\n",
    "\n",
    "Navigating to the search page and entering these parameters, will give you a large list of variable stars (not just eclipsing binaries) that are brighter than 10th magnitude and between 0 to 4 hours RA or 10 and 24 hours RA. You'll want to press \"Enter\" on your keyboard when you finish filling in the query cell.:\n",
    "\n",
    "![<caption>](lab2_resources/vizier_search.png)"
   ]
  },
  {
   "cell_type": "markdown",
   "id": "bc99da01",
   "metadata": {},
   "source": [
    "Sort by magnitude and scroll down the list. Can you find one that is an eclipsing binary (type EB) and has a short orbital period? Hint: there is one, and its simbad name starts with HD 1307X    I won't yet tell you the last digit X.... The name of the star in this catalog will be different (it ends with \"And\")"
   ]
  },
  {
   "cell_type": "markdown",
   "id": "b183b0c3",
   "metadata": {},
   "source": [
    "One last observing tip: When you are viewing a past observation (cancelled or ongoing or pending, anything is OK), you can \"copy\" the observation. This will open up a new observation request form with the same parameters as that past observation.\n",
    "\n",
    "![image.png](lab2_resources/copy_form.png)"
   ]
  },
  {
   "cell_type": "code",
   "execution_count": null,
   "id": "e679b148",
   "metadata": {},
   "outputs": [],
   "source": []
  }
 ],
 "metadata": {
  "kernelspec": {
   "display_name": "Python 3",
   "language": "python",
   "name": "python3"
  },
  "language_info": {
   "codemirror_mode": {
    "name": "ipython",
    "version": 3
   },
   "file_extension": ".py",
   "mimetype": "text/x-python",
   "name": "python",
   "nbconvert_exporter": "python",
   "pygments_lexer": "ipython3",
   "version": "3.8.8"
  }
 },
 "nbformat": 4,
 "nbformat_minor": 5
}
